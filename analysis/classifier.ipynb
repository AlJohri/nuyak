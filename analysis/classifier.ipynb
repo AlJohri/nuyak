{
 "cells": [
  {
   "cell_type": "code",
   "execution_count": 4,
   "metadata": {
    "collapsed": false
   },
   "outputs": [
    {
     "name": "stdout",
     "output_type": "stream",
     "text": [
      "Racist\n",
      "-----------------------\n",
      "Shape: (462, 454)\n",
      "Number of non-zero labels in target: 193\n",
      "5 Fold Cross Validation: [ 0.82795699  0.80645161  0.91397849  0.82608696  0.79120879]\n",
      "jews -0.72965656613\n",
      "people -0.82595757503\n",
      "nigga -0.951325943738\n",
      "black -0.995340185127\n",
      "israel -0.995340185127\n",
      "fuck -1.01921805065\n",
      "hitler -1.0445439208\n",
      "jew -1.13128504072\n",
      "jewish -1.13128504072\n",
      "white -1.13128504072\n",
      "-----------------------------------------\n",
      "Depressed\n",
      "-----------------------\n",
      "Shape:"
     ]
    },
    {
     "name": "stderr",
     "output_type": "stream",
     "text": [
      "[Parallel(n_jobs=1)]: Done   1 jobs       | elapsed:    0.0s\n",
      "[Parallel(n_jobs=1)]: Done   5 out of   5 | elapsed:    0.0s finished\n",
      "[Parallel(n_jobs=1)]: Done   1 jobs       | elapsed:    0.0s\n"
     ]
    },
    {
     "name": "stdout",
     "output_type": "stream",
     "text": [
      " (288, 293)\n",
      "Number of non-zero labels in target: 79\n",
      "5 Fold Cross Validation: [ 0.82758621  0.89655172  0.89655172  0.9137931   0.92857143]\n",
      "anxiety -0.230170091533\n",
      "depressed -0.311707835817\n",
      "just -0.547665821764\n",
      "don -0.573809933585\n",
      "feel -0.573809933585\n",
      "social anxiety -0.602710908367\n",
      "kill -0.602710908367\n",
      "social -0.602710908367\n",
      "really -0.602710908367\n",
      "want -0.635019449397\n",
      "-----------------------------------------\n"
     ]
    },
    {
     "name": "stderr",
     "output_type": "stream",
     "text": [
      "[Parallel(n_jobs=1)]: Done   5 out of   5 | elapsed:    0.0s finished\n"
     ]
    }
   ],
   "source": [
    "%run classifier.py"
   ]
  },
  {
   "cell_type": "code",
   "execution_count": null,
   "metadata": {
    "collapsed": true
   },
   "outputs": [],
   "source": []
  }
 ],
 "metadata": {
  "kernelspec": {
   "display_name": "Python 2",
   "language": "python",
   "name": "python2"
  },
  "language_info": {
   "codemirror_mode": {
    "name": "ipython",
    "version": 2
   },
   "file_extension": ".py",
   "mimetype": "text/x-python",
   "name": "python",
   "nbconvert_exporter": "python",
   "pygments_lexer": "ipython2",
   "version": "2.7.9"
  }
 },
 "nbformat": 4,
 "nbformat_minor": 0
}
